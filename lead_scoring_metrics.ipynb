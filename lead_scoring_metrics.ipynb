{
 "cells": [
  {
   "cell_type": "code",
   "execution_count": 1,
   "id": "fbaf9d5c-275a-4c08-92b0-910bb656b1e6",
   "metadata": {},
   "outputs": [],
   "source": [
    "import pandas as pd\n",
    "import numpy as np"
   ]
  },
  {
   "cell_type": "code",
   "execution_count": 2,
   "id": "d819fda3-204f-439c-8ddc-a9e5ee8600f3",
   "metadata": {},
   "outputs": [],
   "source": [
    "df =pd.read_csv('https://raw.githubusercontent.com/alexeygrigorev/datasets/master/course_lead_scoring.csv')"
   ]
  },
  {
   "cell_type": "code",
   "execution_count": 3,
   "id": "35adda88-c996-432c-ba18-743855959e7c",
   "metadata": {},
   "outputs": [
    {
     "data": {
      "text/html": [
       "<div>\n",
       "<style scoped>\n",
       "    .dataframe tbody tr th:only-of-type {\n",
       "        vertical-align: middle;\n",
       "    }\n",
       "\n",
       "    .dataframe tbody tr th {\n",
       "        vertical-align: top;\n",
       "    }\n",
       "\n",
       "    .dataframe thead th {\n",
       "        text-align: right;\n",
       "    }\n",
       "</style>\n",
       "<table border=\"1\" class=\"dataframe\">\n",
       "  <thead>\n",
       "    <tr style=\"text-align: right;\">\n",
       "      <th></th>\n",
       "      <th>lead_source</th>\n",
       "      <th>industry</th>\n",
       "      <th>number_of_courses_viewed</th>\n",
       "      <th>annual_income</th>\n",
       "      <th>employment_status</th>\n",
       "      <th>location</th>\n",
       "      <th>interaction_count</th>\n",
       "      <th>lead_score</th>\n",
       "      <th>converted</th>\n",
       "    </tr>\n",
       "  </thead>\n",
       "  <tbody>\n",
       "    <tr>\n",
       "      <th>0</th>\n",
       "      <td>paid_ads</td>\n",
       "      <td>NaN</td>\n",
       "      <td>1</td>\n",
       "      <td>79450.0</td>\n",
       "      <td>unemployed</td>\n",
       "      <td>south_america</td>\n",
       "      <td>4</td>\n",
       "      <td>0.94</td>\n",
       "      <td>1</td>\n",
       "    </tr>\n",
       "    <tr>\n",
       "      <th>1</th>\n",
       "      <td>social_media</td>\n",
       "      <td>retail</td>\n",
       "      <td>1</td>\n",
       "      <td>46992.0</td>\n",
       "      <td>employed</td>\n",
       "      <td>south_america</td>\n",
       "      <td>1</td>\n",
       "      <td>0.80</td>\n",
       "      <td>0</td>\n",
       "    </tr>\n",
       "    <tr>\n",
       "      <th>2</th>\n",
       "      <td>events</td>\n",
       "      <td>healthcare</td>\n",
       "      <td>5</td>\n",
       "      <td>78796.0</td>\n",
       "      <td>unemployed</td>\n",
       "      <td>australia</td>\n",
       "      <td>3</td>\n",
       "      <td>0.69</td>\n",
       "      <td>1</td>\n",
       "    </tr>\n",
       "    <tr>\n",
       "      <th>3</th>\n",
       "      <td>paid_ads</td>\n",
       "      <td>retail</td>\n",
       "      <td>2</td>\n",
       "      <td>83843.0</td>\n",
       "      <td>NaN</td>\n",
       "      <td>australia</td>\n",
       "      <td>1</td>\n",
       "      <td>0.87</td>\n",
       "      <td>0</td>\n",
       "    </tr>\n",
       "    <tr>\n",
       "      <th>4</th>\n",
       "      <td>referral</td>\n",
       "      <td>education</td>\n",
       "      <td>3</td>\n",
       "      <td>85012.0</td>\n",
       "      <td>self_employed</td>\n",
       "      <td>europe</td>\n",
       "      <td>3</td>\n",
       "      <td>0.62</td>\n",
       "      <td>1</td>\n",
       "    </tr>\n",
       "  </tbody>\n",
       "</table>\n",
       "</div>"
      ],
      "text/plain": [
       "    lead_source    industry  number_of_courses_viewed  annual_income  \\\n",
       "0      paid_ads         NaN                         1        79450.0   \n",
       "1  social_media      retail                         1        46992.0   \n",
       "2        events  healthcare                         5        78796.0   \n",
       "3      paid_ads      retail                         2        83843.0   \n",
       "4      referral   education                         3        85012.0   \n",
       "\n",
       "  employment_status       location  interaction_count  lead_score  converted  \n",
       "0        unemployed  south_america                  4        0.94          1  \n",
       "1          employed  south_america                  1        0.80          0  \n",
       "2        unemployed      australia                  3        0.69          1  \n",
       "3               NaN      australia                  1        0.87          0  \n",
       "4     self_employed         europe                  3        0.62          1  "
      ]
     },
     "execution_count": 3,
     "metadata": {},
     "output_type": "execute_result"
    }
   ],
   "source": [
    "df.head()"
   ]
  },
  {
   "cell_type": "code",
   "execution_count": 9,
   "id": "f1fea3aa-5e52-4d3c-b049-49be5bf3962c",
   "metadata": {},
   "outputs": [
    {
     "name": "stdout",
     "output_type": "stream",
     "text": [
      "<class 'pandas.core.frame.DataFrame'>\n",
      "RangeIndex: 1462 entries, 0 to 1461\n",
      "Data columns (total 9 columns):\n",
      " #   Column                    Non-Null Count  Dtype  \n",
      "---  ------                    --------------  -----  \n",
      " 0   lead_source               1334 non-null   object \n",
      " 1   industry                  1328 non-null   object \n",
      " 2   number_of_courses_viewed  1462 non-null   int64  \n",
      " 3   annual_income             1281 non-null   float64\n",
      " 4   employment_status         1362 non-null   object \n",
      " 5   location                  1399 non-null   object \n",
      " 6   interaction_count         1462 non-null   int64  \n",
      " 7   lead_score                1462 non-null   float64\n",
      " 8   converted                 1462 non-null   int64  \n",
      "dtypes: float64(2), int64(3), object(4)\n",
      "memory usage: 102.9+ KB\n"
     ]
    },
    {
     "data": {
      "text/plain": [
       "(lead_source                 128\n",
       " industry                    134\n",
       " number_of_courses_viewed      0\n",
       " annual_income               181\n",
       " employment_status           100\n",
       " location                     63\n",
       " interaction_count             0\n",
       " lead_score                    0\n",
       " converted                     0\n",
       " dtype: int64,\n",
       " None)"
      ]
     },
     "execution_count": 9,
     "metadata": {},
     "output_type": "execute_result"
    }
   ],
   "source": [
    "df.isna().sum(), df.info()"
   ]
  },
  {
   "cell_type": "code",
   "execution_count": 331,
   "id": "1a9f0986-50a2-4d95-bba1-90c893785cf4",
   "metadata": {},
   "outputs": [
    {
     "name": "stdout",
     "output_type": "stream",
     "text": [
      "<class 'pandas.core.frame.DataFrame'>\n",
      "RangeIndex: 1462 entries, 0 to 1461\n",
      "Data columns (total 9 columns):\n",
      " #   Column                    Non-Null Count  Dtype  \n",
      "---  ------                    --------------  -----  \n",
      " 0   lead_source               1334 non-null   object \n",
      " 1   industry                  1328 non-null   object \n",
      " 2   number_of_courses_viewed  1462 non-null   int64  \n",
      " 3   annual_income             1281 non-null   float64\n",
      " 4   employment_status         1362 non-null   object \n",
      " 5   location                  1399 non-null   object \n",
      " 6   interaction_count         1462 non-null   int64  \n",
      " 7   lead_score                1462 non-null   float64\n",
      " 8   converted                 1462 non-null   int64  \n",
      "dtypes: float64(2), int64(3), object(4)\n",
      "memory usage: 102.9+ KB\n"
     ]
    }
   ],
   "source": [
    "df.info()"
   ]
  },
  {
   "cell_type": "code",
   "execution_count": 11,
   "id": "486171e1-be31-4d38-b8e4-0b16007a9df1",
   "metadata": {},
   "outputs": [
    {
     "name": "stdout",
     "output_type": "stream",
     "text": [
      "['paid_ads' 'social_media' 'events' 'referral' 'organic_search' nan]\n",
      "[nan 'retail' 'healthcare' 'education' 'manufacturing' 'technology'\n",
      " 'other' 'finance']\n",
      "[79450. 46992. 78796. ... 45688. 71016. 92855.]\n",
      "['unemployed' 'employed' nan 'self_employed' 'student']\n",
      "['south_america' 'australia' 'europe' 'africa' 'middle_east' nan\n",
      " 'north_america' 'asia']\n"
     ]
    }
   ],
   "source": [
    "for col in ['lead_source', 'industry', 'annual_income', 'employment_status', 'location']:\n",
    "    print(df[col].unique())"
   ]
  },
  {
   "cell_type": "code",
   "execution_count": 13,
   "id": "142131c1-4735-4443-a91e-f65bf4170dea",
   "metadata": {},
   "outputs": [
    {
     "data": {
      "text/plain": [
       "0    retail\n",
       "Name: industry, dtype: object"
      ]
     },
     "execution_count": 13,
     "metadata": {},
     "output_type": "execute_result"
    }
   ],
   "source": [
    "df['industry'].mode()"
   ]
  },
  {
   "cell_type": "code",
   "execution_count": 15,
   "id": "57c6de6c-ae1f-4079-92a6-3d7f75625cae",
   "metadata": {},
   "outputs": [],
   "source": [
    "num_cols = ['number_of_courses_viewed', 'annual_income', 'interaction_count', 'lead_score']\n",
    "cat_cols = ['lead_source', 'industry', 'employment_status', 'location']"
   ]
  },
  {
   "cell_type": "code",
   "execution_count": 17,
   "id": "65d1b7cc-6275-48a4-80b9-15dcebd8289b",
   "metadata": {},
   "outputs": [
    {
     "data": {
      "text/plain": [
       "<Axes: >"
      ]
     },
     "execution_count": 17,
     "metadata": {},
     "output_type": "execute_result"
    },
    {
     "data": {
      "image/png": "[encoded data removed]",
      "text/plain": [
       "<Figure size 640x480 with 2 Axes>"
      ]
     },
     "metadata": {},
     "output_type": "display_data"
    }
   ],
   "source": [
    "import matplotlib.pyplot as plt\n",
    "import seaborn as sns\n",
    "\n",
    "corr_matrix = df[num_cols].corr()\n",
    "sns.heatmap(corr_matrix, annot=True, cmap='coolwarm', fmt='.2f')"
   ]
  },
  {
   "cell_type": "code",
   "execution_count": 19,
   "id": "f21eb52a-5d46-4fb7-99df-8e81ab06c2b8",
   "metadata": {},
   "outputs": [],
   "source": [
    "from sklearn.model_selection import train_test_split\n",
    "df_full_train, df_test = train_test_split(df, test_size=0.2, random_state=1)\n",
    "df_train, df_val = train_test_split(df_full_train, test_size= 0.25, random_state=1) "
   ]
  },
  {
   "cell_type": "code",
   "execution_count": 21,
   "id": "489eba18-e055-4a6c-a59e-f808fd697e23",
   "metadata": {},
   "outputs": [],
   "source": [
    "df_full_train[num_cols] = df_full_train[num_cols].fillna(0.0)\n",
    "df_full_train[cat_cols] = df_full_train[cat_cols].fillna('NA')\n",
    "df_train[num_cols] = df_train[num_cols].fillna(0.0)\n",
    "df_train[cat_cols] = df_train[cat_cols].fillna('NA')\n",
    "df_val[num_cols] = df_val[num_cols].fillna(0.0)\n",
    "df_val[cat_cols] = df_val[cat_cols].fillna('NA')\n",
    "df_test[num_cols] = df_test[num_cols].fillna(0.0)\n",
    "df_test[cat_cols] = df_test[cat_cols].fillna('NA')"
   ]
  },
  {
   "cell_type": "code",
   "execution_count": 23,
   "id": "5186d02f-445b-4275-acfb-7df4c6da0cc3",
   "metadata": {},
   "outputs": [
    {
     "data": {
      "text/plain": [
       "(876, 293, 293)"
      ]
     },
     "execution_count": 23,
     "metadata": {},
     "output_type": "execute_result"
    }
   ],
   "source": [
    "len(df_train), len(df_val), len(df_test)"
   ]
  },
  {
   "cell_type": "code",
   "execution_count": 25,
   "id": "92b3ee0a-6c2b-4103-b396-f39d59317f0a",
   "metadata": {},
   "outputs": [],
   "source": [
    "df_train = df_train.reset_index(drop=True)\n",
    "df_val = df_val.reset_index(drop=True)\n",
    "df_test = df_test.reset_index(drop=True)"
   ]
  },
  {
   "cell_type": "code",
   "execution_count": 27,
   "id": "47c6d737-1215-45b5-a9fc-cbaee6d18afe",
   "metadata": {},
   "outputs": [],
   "source": [
    "y_train = df_train.converted.values\n",
    "y_val = df_val.converted.values\n",
    "y_test = df_test.converted.values"
   ]
  },
  {
   "cell_type": "code",
   "execution_count": 29,
   "id": "895b430d-747d-49b1-88ad-313c7410408f",
   "metadata": {},
   "outputs": [
    {
     "data": {
      "text/plain": [
       "(lead_source                 0\n",
       " industry                    0\n",
       " number_of_courses_viewed    0\n",
       " annual_income               0\n",
       " employment_status           0\n",
       " location                    0\n",
       " interaction_count           0\n",
       " lead_score                  0\n",
       " converted                   0\n",
       " dtype: int64,\n",
       " converted\n",
       " 1    0.611634\n",
       " 0    0.388366\n",
       " Name: proportion, dtype: float64)"
      ]
     },
     "execution_count": 29,
     "metadata": {},
     "output_type": "execute_result"
    }
   ],
   "source": [
    "df_full_train.isna().sum(), df_full_train['converted'].value_counts(normalize=True)"
   ]
  },
  {
   "cell_type": "code",
   "execution_count": 31,
   "id": "ae6262b3-453e-4a01-ba98-5eef80ec39ca",
   "metadata": {},
   "outputs": [
    {
     "data": {
      "text/plain": [
       "0.02"
      ]
     },
     "execution_count": 31,
     "metadata": {},
     "output_type": "execute_result"
    }
   ],
   "source": [
    "from sklearn.metrics import mutual_info_score\n",
    "score = mutual_info_score(df_full_train['converted'], df_full_train['lead_source'])\n",
    "round(score, 2)"
   ]
  },
  {
   "cell_type": "code",
   "execution_count": 33,
   "id": "9443a17f-bdfe-47f3-86ad-8afadd9d5b53",
   "metadata": {},
   "outputs": [
    {
     "data": {
      "text/plain": [
       "0.01"
      ]
     },
     "execution_count": 33,
     "metadata": {},
     "output_type": "execute_result"
    }
   ],
   "source": [
    "score_2 = mutual_info_score(df_full_train['converted'], df_full_train['industry'])\n",
    "round(score_2, 2)"
   ]
  },
  {
   "cell_type": "code",
   "execution_count": 35,
   "id": "fad2db1d-2339-42f4-b1ef-f1c95091c57b",
   "metadata": {},
   "outputs": [
    {
     "data": {
      "text/plain": [
       "0.0"
      ]
     },
     "execution_count": 35,
     "metadata": {},
     "output_type": "execute_result"
    }
   ],
   "source": [
    "score_3 = mutual_info_score(df_full_train['converted'], df_full_train['location'])\n",
    "round(score_3, 2)"
   ]
  },
  {
   "cell_type": "code",
   "execution_count": 37,
   "id": "acc9647a-154f-4b68-a794-d356131c251d",
   "metadata": {},
   "outputs": [
    {
     "data": {
      "text/plain": [
       "0.01"
      ]
     },
     "execution_count": 37,
     "metadata": {},
     "output_type": "execute_result"
    }
   ],
   "source": [
    "score_4 = mutual_info_score(df_full_train['converted'], df_full_train['employment_status'])\n",
    "round(score_4, 2)"
   ]
  },
  {
   "cell_type": "code",
   "execution_count": 39,
   "id": "36f88944-455c-498a-a013-6d42b1c95ece",
   "metadata": {},
   "outputs": [],
   "source": [
    "def mutual_info_converted_score(series):\n",
    "    return mutual_info_score(series, df_full_train['converted'])"
   ]
  },
  {
   "cell_type": "code",
   "execution_count": 41,
   "id": "e9ef5abc-c781-4cc6-b678-59bc38975543",
   "metadata": {},
   "outputs": [
    {
     "data": {
      "text/plain": [
       "lead_source          0.024562\n",
       "employment_status    0.012690\n",
       "industry             0.008173\n",
       "location             0.001212\n",
       "dtype: float64"
      ]
     },
     "execution_count": 41,
     "metadata": {},
     "output_type": "execute_result"
    }
   ],
   "source": [
    "df_full_train[cat_cols].apply(mutual_info_converted_score).sort_values(ascending=False)"
   ]
  },
  {
   "cell_type": "code",
   "execution_count": 43,
   "id": "28704da0-ae38-49b1-859f-9357941529ac",
   "metadata": {},
   "outputs": [
    {
     "data": {
      "text/plain": [
       "number_of_courses_viewed    0.434872\n",
       "interaction_count           0.387251\n",
       "lead_score                  0.196394\n",
       "annual_income               0.068845\n",
       "dtype: float64"
      ]
     },
     "execution_count": 43,
     "metadata": {},
     "output_type": "execute_result"
    }
   ],
   "source": [
    "df_full_train[num_cols].corrwith(df_full_train['converted']).sort_values(ascending=False)"
   ]
  },
  {
   "cell_type": "code",
   "execution_count": 45,
   "id": "0934b73b-7d3f-45ec-a412-ff694bf9e87c",
   "metadata": {},
   "outputs": [],
   "source": [
    "from sklearn.feature_extraction import DictVectorizer\n",
    "train_dicts = df_train[num_cols + cat_cols].to_dict(orient='records')\n",
    "dv = DictVectorizer(sparse=False)\n",
    "x_train = dv.fit_transform(train_dicts)\n",
    "val_dicts = df_val[num_cols + cat_cols].to_dict(orient='records')\n",
    "x_val = dv.transform(val_dicts)"
   ]
  },
  {
   "cell_type": "code",
   "execution_count": 47,
   "id": "5ac9eefe-e8cd-49d0-a32f-c718d4bbd169",
   "metadata": {},
   "outputs": [],
   "source": [
    "from sklearn.linear_model import LogisticRegression\n",
    "model = LogisticRegression(solver='liblinear', C=1.0, max_iter=1000)\n",
    "model.fit(x_train, y_train)\n",
    "y_pred = model.predict_proba(x_val)[:, 1]\n",
    "y_pred_labels = (y_pred>= 0.5).astype(int)"
   ]
  },
  {
   "cell_type": "code",
   "execution_count": 49,
   "id": "110dfb39-c052-4920-9f75-c4f5e169746d",
   "metadata": {},
   "outputs": [
    {
     "name": "stdout",
     "output_type": "stream",
     "text": [
      "0.7\n"
     ]
    }
   ],
   "source": [
    "from sklearn.metrics import accuracy_score\n",
    "accuracy = accuracy_score(y_val, y_pred_labels)\n",
    "print(round(accuracy,2))"
   ]
  },
  {
   "cell_type": "code",
   "execution_count": 51,
   "id": "c9b16404-e0f2-4109-9685-48df0726b411",
   "metadata": {},
   "outputs": [
    {
     "name": "stdout",
     "output_type": "stream",
     "text": [
      "Removed industry: accuracy = 0.6996587030716723, difference = 0.0\n",
      "Removed employment_status: accuracy = 0.7030716723549488, difference = -0.0034129692832765013\n",
      "Removed lead_score: accuracy = 0.6996587030716723, difference = 0.0\n"
     ]
    }
   ],
   "source": [
    "features_to_remove = ['industry', 'employment_status', 'lead_score']\n",
    "accuracy_diff = {}\n",
    "for feature in features_to_remove:\n",
    "    removed_cols = [col for col in (num_cols + cat_cols) if col != feature]\n",
    "    train_dicts = df_train[removed_cols].to_dict(orient='records')\n",
    "    val_dicts = df_val[removed_cols].to_dict(orient='records')\n",
    "    dv = DictVectorizer(sparse=False)\n",
    "    x_train = dv.fit_transform(train_dicts)\n",
    "    x_val = dv.transform(val_dicts)\n",
    "    model = LogisticRegression(solver='liblinear', C=1.0, max_iter=1000, random_state=1)\n",
    "    model.fit(x_train, y_train)\n",
    "    y_pred = model.predict_proba(x_val)[:, 1]\n",
    "    y_pred_labels = (y_pred >= 0.5).astype(int)\n",
    "    acc = accuracy_score(y_val, y_pred_labels)\n",
    "    diff = accuracy - acc\n",
    "    accuracy_diff[feature] = diff\n",
    "    print(f\"Removed {feature}: accuracy = {acc}, difference = {diff}\")"
   ]
  },
  {
   "cell_type": "code",
   "execution_count": 53,
   "id": "c02ceb4a-e9a4-4c46-ab3a-fc6abaa24dc5",
   "metadata": {},
   "outputs": [],
   "source": [
    "train_dicts = df_train[num_cols + cat_cols].to_dict(orient='records')\n",
    "dv = DictVectorizer(sparse=False)\n",
    "x_train = dv.fit_transform(train_dicts)\n",
    "val_dicts = df_val[num_cols + cat_cols].to_dict(orient='records')\n",
    "x_val = dv.transform(val_dicts)"
   ]
  },
  {
   "cell_type": "code",
   "execution_count": 55,
   "id": "814aae9b-2431-44fc-a977-257094abd198",
   "metadata": {},
   "outputs": [
    {
     "name": "stdout",
     "output_type": "stream",
     "text": [
      "C = 0.01: 0.7\n",
      "C = 0.1: 0.7\n",
      "C = 1: 0.7\n",
      "C = 10: 0.7\n",
      "C = 100: 0.7\n"
     ]
    }
   ],
   "source": [
    "c_values =[0.01, 0.1, 1, 10, 100]\n",
    "accuracies = {}\n",
    "for C in c_values:\n",
    "    model = LogisticRegression(solver='liblinear', C=C, max_iter=1000, random_state=1)\n",
    "    model.fit(x_train, y_train)\n",
    "    y_pred = model.predict_proba(x_val)[:, 1]\n",
    "    y_pred_labels = (y_pred >= 0.5).astype(int)\n",
    "    acc= accuracy_score(y_val, y_pred_labels)\n",
    "    accuracies[C] = round(acc,3)\n",
    "    print(f\"C = {C}: {accuracies[C]}\")"
   ]
  },
  {
   "cell_type": "code",
   "execution_count": 77,
   "id": "e73a700a-e561-4822-a0f1-abb381664a2f",
   "metadata": {},
   "outputs": [
    {
     "name": "stdout",
     "output_type": "stream",
     "text": [
      "Lead Score : 0.6144993577250176\n",
      "N courses viewed : 0.7635680590007088\n",
      "Interaction Count : 0.738270176293409\n",
      "Abbual Income : 0.5519578313253012\n"
     ]
    }
   ],
   "source": [
    "from sklearn.metrics import roc_auc_score, roc_curve\n",
    "roc_auc_lead = roc_auc_score(y_train, df_train['lead_score'])\n",
    "roc_auc_nviews = roc_auc_score(y_train, df_train['number_of_courses_viewed'])\n",
    "roc_auc_icount = roc_auc_score(y_train, df_train['interaction_count'])\n",
    "roc_auc_anincome = roc_auc_score(y_train, df_train['annual_income'])\n",
    "\n",
    "print(f\"Lead Score : {roc_auc_lead}\")\n",
    "print(f\"N courses viewed : {roc_auc_nviews}\")\n",
    "print(f\"Interaction Count : {roc_auc_icount}\")\n",
    "print(f\"Abbual Income : {roc_auc_anincome}\")"
   ]
  },
  {
   "cell_type": "code",
   "execution_count": 81,
   "id": "c7ce0da8-8758-40fb-9bba-4edec6d39563",
   "metadata": {},
   "outputs": [
    {
     "data": {
      "image/png": "[encoded data removed]",
      "text/plain": [
       "<Figure size 640x480 with 1 Axes>"
      ]
     },
     "metadata": {},
     "output_type": "display_data"
    }
   ],
   "source": [
    "roc_auc = roc_auc_score(y_test, y_pred)\n",
    "fpr, tpr, threshold = roc_curve(y_test, y_pred)\n",
    "\n",
    "plt.plot(fpr, tpr, label=f\"ROC AUC : {roc_auc: .3f}\")\n",
    "plt.plot([0,1], [0,1], 'k--')\n",
    "plt.xlabel(\"False Positive Rate\")\n",
    "plt.ylabel(\"True Positive Rate\")\n",
    "plt.legend()\n",
    "plt.show()"
   ]
  },
  {
   "cell_type": "code",
   "execution_count": 93,
   "id": "dceb53e5-7907-489f-9281-95d7b5200936",
   "metadata": {},
   "outputs": [],
   "source": [
    "test_dicts = df_test[num_cols + cat_cols].to_dict(orient = 'records')\n",
    "x_test = dv.transform(test_dicts)\n",
    "y_pred_test = model.predict_proba(x_test)[:, 1]\n"
   ]
  },
  {
   "cell_type": "code",
   "execution_count": 103,
   "id": "fdd8bb1a-9c70-4a58-8dda-98fb1be5ca45",
   "metadata": {},
   "outputs": [
    {
     "data": {
      "image/png": "[encoded data removed]",
      "text/plain": [
       "<Figure size 640x480 with 1 Axes>"
      ]
     },
     "metadata": {},
     "output_type": "display_data"
    }
   ],
   "source": [
    "from sklearn.metrics import precision_recall_curve , precision_score, recall_score\n",
    "\n",
    "thresholds = np.arange(0.0, 1.01, 0.01)\n",
    "precisions = []\n",
    "recalls = []\n",
    "for t in thresholds:\n",
    "    y_pred_labels = (y_pred>= t).astype(int)\n",
    "    precisions.append(precision_score(y_test, y_pred_labels, zero_division=0))\n",
    "    recalls.append(recall_score(y_test, y_pred_labels, zero_division=0))\n",
    "    \n",
    "plt.plot(thresholds, precisions, label='Precision', color='blue')\n",
    "plt.plot(thresholds, recalls, label='Recall', color='green')\n",
    "plt.xlabel(\"Thresholds\")\n",
    "plt.ylabel(\"Score\")\n",
    "plt.legend()\n",
    "plt.grid(True)\n",
    "plt.show()\n"
   ]
  },
  {
   "cell_type": "code",
   "execution_count": 117,
   "id": "cbc97e41-9e90-4f6e-bad7-5ac758a49a35",
   "metadata": {},
   "outputs": [
    {
     "data": {
      "image/png": "[encoded data removed]",
      "text/plain": [
       "<Figure size 640x480 with 1 Axes>"
      ]
     },
     "metadata": {},
     "output_type": "display_data"
    }
   ],
   "source": [
    "from sklearn.metrics import f1_score\n",
    "f1_scores=[]\n",
    "for t in thresholds:\n",
    "    y_pred_labels = (y_pred >= t).astype(int)\n",
    "    f1 = f1_score(y_test, y_pred_labels, zero_division=0)\n",
    "    f1_scores.append(f1)\n",
    "    \n",
    "best_f1 = max(f1_scores)\n",
    "best_threshold = thresholds[np.argmax(f1_scores)]\n",
    "\n",
    "plt.plot(thresholds, f1_scores, label='F1-Score', color='blue')\n",
    "plt.axvline(x=best_threshold, color='red', linestyle='--', label=f\"Max F1 at {best_f1}\")\n",
    "plt.xlabel('Thresholds')\n",
    "plt.ylabel('F1 Score')\n",
    "plt.legend()\n",
    "plt.grid(True)\n",
    "plt.show()"
   ]
  },
  {
   "cell_type": "code",
   "execution_count": 127,
   "id": "83f75445-c495-4720-94ca-f14ecc662aad",
   "metadata": {},
   "outputs": [
    {
     "name": "stdout",
     "output_type": "stream",
     "text": [
      "Standard Deviation of AUC:  0.0318\n"
     ]
    }
   ],
   "source": [
    "from sklearn.model_selection import KFold\n",
    "kf = KFold(n_splits=5, shuffle=True, random_state=1)\n",
    "auc_scores = []\n",
    "\n",
    "\n",
    "for train_id, val_id in kf.split(df_full_train):\n",
    "    df_train = df_full_train.iloc[train_id]\n",
    "    df_val = df_full_train.iloc[val_id]\n",
    "\n",
    "    train_dict = df_train.to_dict(orient='records')\n",
    "    val_dict = df_val.to_dict(orient='records')\n",
    "\n",
    "    dv = DictVectorizer()\n",
    "    x_train = dv.fit_transform(train_dict)\n",
    "    x_val = dv.transform(val_dict)\n",
    "    y_train = df_train.converted.values\n",
    "    y_val = df_val.converted.values\n",
    "\n",
    "    model = LogisticRegression(solver='liblinear', C=1.0, max_iter=1000)\n",
    "    model.fit(x_train, y_train)\n",
    "\n",
    "    y_pred = model.predict_proba(x_val)[:, 1]\n",
    "    auc = roc_auc_score(y_val, y_pred)\n",
    "    auc_scores.append(auc)\n",
    "\n",
    "print(f\"Standard Deviation of AUC: {np.std(auc_scores): .4f}\")\n",
    "    \n",
    "    "
   ]
  },
  {
   "cell_type": "code",
   "execution_count": 139,
   "id": "57f25d29-7d6b-4f35-aff1-8c23c0a41651",
   "metadata": {},
   "outputs": [
    {
     "name": "stdout",
     "output_type": "stream",
     "text": [
      "C=1 for mean AUC 0.876 Std= 0.032\n"
     ]
    }
   ],
   "source": [
    "c_values = [0.000001, 0.001, 1]\n",
    "kf =KFold(n_splits=5, shuffle=True, random_state=1)\n",
    "results ={}\n",
    "for C in c_values:\n",
    "    auc_scores =[]\n",
    "    \n",
    "    for train_id, val_id in kf.split(df_full_train):\n",
    "        df_train = df_full_train.iloc[train_id]\n",
    "        df_val = df_full_train.iloc[val_id]\n",
    "    \n",
    "        train_dict = df_train.to_dict(orient='records')\n",
    "        val_dict = df_val.to_dict(orient='records')\n",
    "    \n",
    "        dv = DictVectorizer()\n",
    "        x_train = dv.fit_transform(train_dict)\n",
    "        x_val = dv.transform(val_dict)\n",
    "        y_train = df_train.converted.values\n",
    "        y_val = df_val.converted.values\n",
    "    \n",
    "        model = LogisticRegression(solver='liblinear', C=C, max_iter=1000)\n",
    "        model.fit(x_train, y_train)\n",
    "    \n",
    "        y_pred = model.predict_proba(x_val)[:, 1]\n",
    "        auc = roc_auc_score(y_val, y_pred)\n",
    "        auc_scores.append(auc)\n",
    "\n",
    "mean_auc = round(np.mean(auc_scores), 3)\n",
    "std_auc = round(np.std(auc_scores), 3)\n",
    "results[C] = (mean_auc, std_auc)\n",
    "print(f\"C={C} for mean AUC{mean_auc: .3f} Std={std_auc: .3f}\")"
   ]
  },
  {
   "cell_type": "code",
   "execution_count": null,
   "id": "3e7e7f50-df03-4e68-862a-34362203726d",
   "metadata": {},
   "outputs": [],
   "source": []
  }
 ],
 "metadata": {
  "kernelspec": {
   "display_name": "Python [conda env:base] *",
   "language": "python",
   "name": "conda-base-py"
  },
  "language_info": {
   "codemirror_mode": {
    "name": "ipython",
    "version": 3
   },
   "file_extension": ".py",
   "mimetype": "text/x-python",
   "name": "python",
   "nbconvert_exporter": "python",
   "pygments_lexer": "ipython3",
   "version": "3.12.3"
  }
 },
 "nbformat": 4,
 "nbformat_minor": 5
}
